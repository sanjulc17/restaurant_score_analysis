{
  "nbformat": 4,
  "nbformat_minor": 0,
  "metadata": {
    "colab": {
      "name": "Restaurant Score Analysis.ipynb",
      "provenance": [],
      "collapsed_sections": [],
      "authorship_tag": "ABX9TyM1Nsu1/Mt4gIwDd7lXTpa3",
      "include_colab_link": true
    },
    "kernelspec": {
      "name": "python3",
      "display_name": "Python 3"
    }
  },
  "cells": [
    {
      "cell_type": "markdown",
      "metadata": {
        "id": "view-in-github",
        "colab_type": "text"
      },
      "source": [
        "<a href=\"https://colab.research.google.com/github/sanjulc17/restaurant_score_analysis/blob/main/Restaurant_Score_Analysis.ipynb\" target=\"_parent\"><img src=\"https://colab.research.google.com/assets/colab-badge.svg\" alt=\"Open In Colab\"/></a>"
      ]
    },
    {
      "cell_type": "markdown",
      "metadata": {
        "id": "vrqXbD1Hf4Tw"
      },
      "source": [
        "## Importing the required Libs"
      ]
    },
    {
      "cell_type": "code",
      "metadata": {
        "id": "ncfH2c4_frLC"
      },
      "source": [
        "import pandas as pd\n",
        "import scipy\n",
        "import datetime\n",
        "import numpy as np"
      ],
      "execution_count": null,
      "outputs": []
    },
    {
      "cell_type": "markdown",
      "metadata": {
        "id": "XIWlm36Cf7ii"
      },
      "source": [
        "## Getting the data"
      ]
    },
    {
      "cell_type": "code",
      "metadata": {
        "colab": {
          "base_uri": "https://localhost:8080/"
        },
        "id": "SHXki-9Cf_5I",
        "outputId": "f3f230ad-b206-4f57-8b11-ccd1f190cc25"
      },
      "source": [
        "!ls"
      ],
      "execution_count": null,
      "outputs": [
        {
          "output_type": "stream",
          "text": [
            "sample_data\n"
          ],
          "name": "stdout"
        }
      ]
    },
    {
      "cell_type": "code",
      "metadata": {
        "id": "Z-AEUrmbf3CE",
        "colab": {
          "base_uri": "https://localhost:8080/",
          "height": 380
        },
        "outputId": "5f08ec0f-ac84-43cd-afe7-d20c2cef967d"
      },
      "source": [
        "df = pd.read_csv(\"restaurant-scores-lives-standard.csv\")"
      ],
      "execution_count": null,
      "outputs": [
        {
          "output_type": "error",
          "ename": "FileNotFoundError",
          "evalue": "ignored",
          "traceback": [
            "\u001b[0;31m---------------------------------------------------------------------------\u001b[0m",
            "\u001b[0;31mFileNotFoundError\u001b[0m                         Traceback (most recent call last)",
            "\u001b[0;32m<ipython-input-5-38bccf50ff7a>\u001b[0m in \u001b[0;36m<module>\u001b[0;34m()\u001b[0m\n\u001b[0;32m----> 1\u001b[0;31m \u001b[0mdf\u001b[0m \u001b[0;34m=\u001b[0m \u001b[0mpd\u001b[0m\u001b[0;34m.\u001b[0m\u001b[0mread_csv\u001b[0m\u001b[0;34m(\u001b[0m\u001b[0;34m\"restaurant-scores-lives-standard.csv\"\u001b[0m\u001b[0;34m)\u001b[0m\u001b[0;34m\u001b[0m\u001b[0;34m\u001b[0m\u001b[0m\n\u001b[0m",
            "\u001b[0;32m/usr/local/lib/python3.7/dist-packages/pandas/io/parsers.py\u001b[0m in \u001b[0;36mread_csv\u001b[0;34m(filepath_or_buffer, sep, delimiter, header, names, index_col, usecols, squeeze, prefix, mangle_dupe_cols, dtype, engine, converters, true_values, false_values, skipinitialspace, skiprows, skipfooter, nrows, na_values, keep_default_na, na_filter, verbose, skip_blank_lines, parse_dates, infer_datetime_format, keep_date_col, date_parser, dayfirst, cache_dates, iterator, chunksize, compression, thousands, decimal, lineterminator, quotechar, quoting, doublequote, escapechar, comment, encoding, dialect, error_bad_lines, warn_bad_lines, delim_whitespace, low_memory, memory_map, float_precision)\u001b[0m\n\u001b[1;32m    686\u001b[0m     )\n\u001b[1;32m    687\u001b[0m \u001b[0;34m\u001b[0m\u001b[0m\n\u001b[0;32m--> 688\u001b[0;31m     \u001b[0;32mreturn\u001b[0m \u001b[0m_read\u001b[0m\u001b[0;34m(\u001b[0m\u001b[0mfilepath_or_buffer\u001b[0m\u001b[0;34m,\u001b[0m \u001b[0mkwds\u001b[0m\u001b[0;34m)\u001b[0m\u001b[0;34m\u001b[0m\u001b[0;34m\u001b[0m\u001b[0m\n\u001b[0m\u001b[1;32m    689\u001b[0m \u001b[0;34m\u001b[0m\u001b[0m\n\u001b[1;32m    690\u001b[0m \u001b[0;34m\u001b[0m\u001b[0m\n",
            "\u001b[0;32m/usr/local/lib/python3.7/dist-packages/pandas/io/parsers.py\u001b[0m in \u001b[0;36m_read\u001b[0;34m(filepath_or_buffer, kwds)\u001b[0m\n\u001b[1;32m    452\u001b[0m \u001b[0;34m\u001b[0m\u001b[0m\n\u001b[1;32m    453\u001b[0m     \u001b[0;31m# Create the parser.\u001b[0m\u001b[0;34m\u001b[0m\u001b[0;34m\u001b[0m\u001b[0;34m\u001b[0m\u001b[0m\n\u001b[0;32m--> 454\u001b[0;31m     \u001b[0mparser\u001b[0m \u001b[0;34m=\u001b[0m \u001b[0mTextFileReader\u001b[0m\u001b[0;34m(\u001b[0m\u001b[0mfp_or_buf\u001b[0m\u001b[0;34m,\u001b[0m \u001b[0;34m**\u001b[0m\u001b[0mkwds\u001b[0m\u001b[0;34m)\u001b[0m\u001b[0;34m\u001b[0m\u001b[0;34m\u001b[0m\u001b[0m\n\u001b[0m\u001b[1;32m    455\u001b[0m \u001b[0;34m\u001b[0m\u001b[0m\n\u001b[1;32m    456\u001b[0m     \u001b[0;32mif\u001b[0m \u001b[0mchunksize\u001b[0m \u001b[0;32mor\u001b[0m \u001b[0miterator\u001b[0m\u001b[0;34m:\u001b[0m\u001b[0;34m\u001b[0m\u001b[0;34m\u001b[0m\u001b[0m\n",
            "\u001b[0;32m/usr/local/lib/python3.7/dist-packages/pandas/io/parsers.py\u001b[0m in \u001b[0;36m__init__\u001b[0;34m(self, f, engine, **kwds)\u001b[0m\n\u001b[1;32m    946\u001b[0m             \u001b[0mself\u001b[0m\u001b[0;34m.\u001b[0m\u001b[0moptions\u001b[0m\u001b[0;34m[\u001b[0m\u001b[0;34m\"has_index_names\"\u001b[0m\u001b[0;34m]\u001b[0m \u001b[0;34m=\u001b[0m \u001b[0mkwds\u001b[0m\u001b[0;34m[\u001b[0m\u001b[0;34m\"has_index_names\"\u001b[0m\u001b[0;34m]\u001b[0m\u001b[0;34m\u001b[0m\u001b[0;34m\u001b[0m\u001b[0m\n\u001b[1;32m    947\u001b[0m \u001b[0;34m\u001b[0m\u001b[0m\n\u001b[0;32m--> 948\u001b[0;31m         \u001b[0mself\u001b[0m\u001b[0;34m.\u001b[0m\u001b[0m_make_engine\u001b[0m\u001b[0;34m(\u001b[0m\u001b[0mself\u001b[0m\u001b[0;34m.\u001b[0m\u001b[0mengine\u001b[0m\u001b[0;34m)\u001b[0m\u001b[0;34m\u001b[0m\u001b[0;34m\u001b[0m\u001b[0m\n\u001b[0m\u001b[1;32m    949\u001b[0m \u001b[0;34m\u001b[0m\u001b[0m\n\u001b[1;32m    950\u001b[0m     \u001b[0;32mdef\u001b[0m \u001b[0mclose\u001b[0m\u001b[0;34m(\u001b[0m\u001b[0mself\u001b[0m\u001b[0;34m)\u001b[0m\u001b[0;34m:\u001b[0m\u001b[0;34m\u001b[0m\u001b[0;34m\u001b[0m\u001b[0m\n",
            "\u001b[0;32m/usr/local/lib/python3.7/dist-packages/pandas/io/parsers.py\u001b[0m in \u001b[0;36m_make_engine\u001b[0;34m(self, engine)\u001b[0m\n\u001b[1;32m   1178\u001b[0m     \u001b[0;32mdef\u001b[0m \u001b[0m_make_engine\u001b[0m\u001b[0;34m(\u001b[0m\u001b[0mself\u001b[0m\u001b[0;34m,\u001b[0m \u001b[0mengine\u001b[0m\u001b[0;34m=\u001b[0m\u001b[0;34m\"c\"\u001b[0m\u001b[0;34m)\u001b[0m\u001b[0;34m:\u001b[0m\u001b[0;34m\u001b[0m\u001b[0;34m\u001b[0m\u001b[0m\n\u001b[1;32m   1179\u001b[0m         \u001b[0;32mif\u001b[0m \u001b[0mengine\u001b[0m \u001b[0;34m==\u001b[0m \u001b[0;34m\"c\"\u001b[0m\u001b[0;34m:\u001b[0m\u001b[0;34m\u001b[0m\u001b[0;34m\u001b[0m\u001b[0m\n\u001b[0;32m-> 1180\u001b[0;31m             \u001b[0mself\u001b[0m\u001b[0;34m.\u001b[0m\u001b[0m_engine\u001b[0m \u001b[0;34m=\u001b[0m \u001b[0mCParserWrapper\u001b[0m\u001b[0;34m(\u001b[0m\u001b[0mself\u001b[0m\u001b[0;34m.\u001b[0m\u001b[0mf\u001b[0m\u001b[0;34m,\u001b[0m \u001b[0;34m**\u001b[0m\u001b[0mself\u001b[0m\u001b[0;34m.\u001b[0m\u001b[0moptions\u001b[0m\u001b[0;34m)\u001b[0m\u001b[0;34m\u001b[0m\u001b[0;34m\u001b[0m\u001b[0m\n\u001b[0m\u001b[1;32m   1181\u001b[0m         \u001b[0;32melse\u001b[0m\u001b[0;34m:\u001b[0m\u001b[0;34m\u001b[0m\u001b[0;34m\u001b[0m\u001b[0m\n\u001b[1;32m   1182\u001b[0m             \u001b[0;32mif\u001b[0m \u001b[0mengine\u001b[0m \u001b[0;34m==\u001b[0m \u001b[0;34m\"python\"\u001b[0m\u001b[0;34m:\u001b[0m\u001b[0;34m\u001b[0m\u001b[0;34m\u001b[0m\u001b[0m\n",
            "\u001b[0;32m/usr/local/lib/python3.7/dist-packages/pandas/io/parsers.py\u001b[0m in \u001b[0;36m__init__\u001b[0;34m(self, src, **kwds)\u001b[0m\n\u001b[1;32m   2008\u001b[0m         \u001b[0mkwds\u001b[0m\u001b[0;34m[\u001b[0m\u001b[0;34m\"usecols\"\u001b[0m\u001b[0;34m]\u001b[0m \u001b[0;34m=\u001b[0m \u001b[0mself\u001b[0m\u001b[0;34m.\u001b[0m\u001b[0musecols\u001b[0m\u001b[0;34m\u001b[0m\u001b[0;34m\u001b[0m\u001b[0m\n\u001b[1;32m   2009\u001b[0m \u001b[0;34m\u001b[0m\u001b[0m\n\u001b[0;32m-> 2010\u001b[0;31m         \u001b[0mself\u001b[0m\u001b[0;34m.\u001b[0m\u001b[0m_reader\u001b[0m \u001b[0;34m=\u001b[0m \u001b[0mparsers\u001b[0m\u001b[0;34m.\u001b[0m\u001b[0mTextReader\u001b[0m\u001b[0;34m(\u001b[0m\u001b[0msrc\u001b[0m\u001b[0;34m,\u001b[0m \u001b[0;34m**\u001b[0m\u001b[0mkwds\u001b[0m\u001b[0;34m)\u001b[0m\u001b[0;34m\u001b[0m\u001b[0;34m\u001b[0m\u001b[0m\n\u001b[0m\u001b[1;32m   2011\u001b[0m         \u001b[0mself\u001b[0m\u001b[0;34m.\u001b[0m\u001b[0munnamed_cols\u001b[0m \u001b[0;34m=\u001b[0m \u001b[0mself\u001b[0m\u001b[0;34m.\u001b[0m\u001b[0m_reader\u001b[0m\u001b[0;34m.\u001b[0m\u001b[0munnamed_cols\u001b[0m\u001b[0;34m\u001b[0m\u001b[0;34m\u001b[0m\u001b[0m\n\u001b[1;32m   2012\u001b[0m \u001b[0;34m\u001b[0m\u001b[0m\n",
            "\u001b[0;32mpandas/_libs/parsers.pyx\u001b[0m in \u001b[0;36mpandas._libs.parsers.TextReader.__cinit__\u001b[0;34m()\u001b[0m\n",
            "\u001b[0;32mpandas/_libs/parsers.pyx\u001b[0m in \u001b[0;36mpandas._libs.parsers.TextReader._setup_parser_source\u001b[0;34m()\u001b[0m\n",
            "\u001b[0;31mFileNotFoundError\u001b[0m: [Errno 2] No such file or directory: 'restaurant-scores-lives-standard.csv'"
          ]
        }
      ]
    },
    {
      "cell_type": "markdown",
      "metadata": {
        "id": "mMUWeXyggH09"
      },
      "source": [
        "## Getting a look at data, analysing the datatypes and some useful stats of the data"
      ]
    },
    {
      "cell_type": "code",
      "metadata": {
        "colab": {
          "base_uri": "https://localhost:8080/",
          "height": 326
        },
        "id": "V5Evpa88gCBS",
        "outputId": "b2c10cd1-13ad-43b2-d7d0-4fe60bd38f66"
      },
      "source": [
        "df.tail()"
      ],
      "execution_count": null,
      "outputs": [
        {
          "output_type": "execute_result",
          "data": {
            "text/html": [
              "<div>\n",
              "<style scoped>\n",
              "    .dataframe tbody tr th:only-of-type {\n",
              "        vertical-align: middle;\n",
              "    }\n",
              "\n",
              "    .dataframe tbody tr th {\n",
              "        vertical-align: top;\n",
              "    }\n",
              "\n",
              "    .dataframe thead th {\n",
              "        text-align: right;\n",
              "    }\n",
              "</style>\n",
              "<table border=\"1\" class=\"dataframe\">\n",
              "  <thead>\n",
              "    <tr style=\"text-align: right;\">\n",
              "      <th></th>\n",
              "      <th>business_id</th>\n",
              "      <th>business_name</th>\n",
              "      <th>business_address</th>\n",
              "      <th>business_city</th>\n",
              "      <th>business_state</th>\n",
              "      <th>business_postal_code</th>\n",
              "      <th>business_latitude</th>\n",
              "      <th>business_longitude</th>\n",
              "      <th>business_location</th>\n",
              "      <th>business_phone_number</th>\n",
              "      <th>inspection_id</th>\n",
              "      <th>inspection_date</th>\n",
              "      <th>inspection_score</th>\n",
              "      <th>inspection_type</th>\n",
              "      <th>violation_id</th>\n",
              "      <th>violation_description</th>\n",
              "      <th>risk_category</th>\n",
              "    </tr>\n",
              "  </thead>\n",
              "  <tbody>\n",
              "    <tr>\n",
              "      <th>52310</th>\n",
              "      <td>39937</td>\n",
              "      <td>Chantal Guillon</td>\n",
              "      <td>437 A Hayes St</td>\n",
              "      <td>San Francisco</td>\n",
              "      <td>CA</td>\n",
              "      <td>94102</td>\n",
              "      <td>37.779847</td>\n",
              "      <td>-122.418985</td>\n",
              "      <td>{'needs_recoding': False, 'latitude': '37.7798...</td>\n",
              "      <td>NaN</td>\n",
              "      <td>39937_20160926</td>\n",
              "      <td>2016-09-26T00:00:00</td>\n",
              "      <td>NaN</td>\n",
              "      <td>Reinspection/Followup</td>\n",
              "      <td>39937_20160926_103130</td>\n",
              "      <td>Inadequate sewage or wastewater disposal</td>\n",
              "      <td>Moderate Risk</td>\n",
              "    </tr>\n",
              "    <tr>\n",
              "      <th>52311</th>\n",
              "      <td>88303</td>\n",
              "      <td>Kushi Tsuru</td>\n",
              "      <td>1737 Post St 380</td>\n",
              "      <td>San Francisco</td>\n",
              "      <td>CA</td>\n",
              "      <td>94115</td>\n",
              "      <td>NaN</td>\n",
              "      <td>NaN</td>\n",
              "      <td>NaN</td>\n",
              "      <td>1.415594e+10</td>\n",
              "      <td>88303_20170313</td>\n",
              "      <td>2017-03-13T00:00:00</td>\n",
              "      <td>85.0</td>\n",
              "      <td>Routine - Unscheduled</td>\n",
              "      <td>88303_20170313_103161</td>\n",
              "      <td>Low risk vermin infestation</td>\n",
              "      <td>Low Risk</td>\n",
              "    </tr>\n",
              "    <tr>\n",
              "      <th>52312</th>\n",
              "      <td>86647</td>\n",
              "      <td>Da Cafe</td>\n",
              "      <td>407 Clement St</td>\n",
              "      <td>San Francisco</td>\n",
              "      <td>CA</td>\n",
              "      <td>94118</td>\n",
              "      <td>NaN</td>\n",
              "      <td>NaN</td>\n",
              "      <td>NaN</td>\n",
              "      <td>NaN</td>\n",
              "      <td>86647_20160504</td>\n",
              "      <td>2016-05-04T00:00:00</td>\n",
              "      <td>NaN</td>\n",
              "      <td>New Ownership</td>\n",
              "      <td>86647_20160504_103116</td>\n",
              "      <td>Inadequate food safety knowledge or lack of ce...</td>\n",
              "      <td>Moderate Risk</td>\n",
              "    </tr>\n",
              "    <tr>\n",
              "      <th>52313</th>\n",
              "      <td>97277</td>\n",
              "      <td>OYE MANAGUA</td>\n",
              "      <td>3385 Mission St</td>\n",
              "      <td>San Francisco</td>\n",
              "      <td>CA</td>\n",
              "      <td>94110</td>\n",
              "      <td>NaN</td>\n",
              "      <td>NaN</td>\n",
              "      <td>NaN</td>\n",
              "      <td>NaN</td>\n",
              "      <td>97277_20180816</td>\n",
              "      <td>2018-08-16T00:00:00</td>\n",
              "      <td>85.0</td>\n",
              "      <td>Routine - Unscheduled</td>\n",
              "      <td>97277_20180816_103154</td>\n",
              "      <td>Unclean or degraded floors walls or ceilings</td>\n",
              "      <td>Low Risk</td>\n",
              "    </tr>\n",
              "    <tr>\n",
              "      <th>52314</th>\n",
              "      <td>86133</td>\n",
              "      <td>Jamba Juice</td>\n",
              "      <td>152 Kearny St</td>\n",
              "      <td>San Francisco</td>\n",
              "      <td>CA</td>\n",
              "      <td>94108</td>\n",
              "      <td>NaN</td>\n",
              "      <td>NaN</td>\n",
              "      <td>NaN</td>\n",
              "      <td>NaN</td>\n",
              "      <td>86133_20160727</td>\n",
              "      <td>2016-07-27T00:00:00</td>\n",
              "      <td>92.0</td>\n",
              "      <td>Routine - Unscheduled</td>\n",
              "      <td>86133_20160727_103120</td>\n",
              "      <td>Moderate risk food holding temperature</td>\n",
              "      <td>Moderate Risk</td>\n",
              "    </tr>\n",
              "  </tbody>\n",
              "</table>\n",
              "</div>"
            ],
            "text/plain": [
              "       business_id  ...  risk_category\n",
              "52310        39937  ...  Moderate Risk\n",
              "52311        88303  ...       Low Risk\n",
              "52312        86647  ...  Moderate Risk\n",
              "52313        97277  ...       Low Risk\n",
              "52314        86133  ...  Moderate Risk\n",
              "\n",
              "[5 rows x 17 columns]"
            ]
          },
          "metadata": {
            "tags": []
          },
          "execution_count": 4
        }
      ]
    },
    {
      "cell_type": "code",
      "metadata": {
        "colab": {
          "base_uri": "https://localhost:8080/"
        },
        "id": "l3wHpEEPgCoA",
        "outputId": "f0a4c89f-abb1-46b2-d123-cf1b6bf1c686"
      },
      "source": [
        "df.info()"
      ],
      "execution_count": null,
      "outputs": [
        {
          "output_type": "stream",
          "text": [
            "<class 'pandas.core.frame.DataFrame'>\n",
            "RangeIndex: 52315 entries, 0 to 52314\n",
            "Data columns (total 17 columns):\n",
            " #   Column                 Non-Null Count  Dtype  \n",
            "---  ------                 --------------  -----  \n",
            " 0   business_id            52315 non-null  int64  \n",
            " 1   business_name          52315 non-null  object \n",
            " 2   business_address       52315 non-null  object \n",
            " 3   business_city          52315 non-null  object \n",
            " 4   business_state         52315 non-null  object \n",
            " 5   business_postal_code   51069 non-null  object \n",
            " 6   business_latitude      29530 non-null  float64\n",
            " 7   business_longitude     29530 non-null  float64\n",
            " 8   business_location      29530 non-null  object \n",
            " 9   business_phone_number  16153 non-null  float64\n",
            " 10  inspection_id          52315 non-null  object \n",
            " 11  inspection_date        52315 non-null  object \n",
            " 12  inspection_score       38590 non-null  float64\n",
            " 13  inspection_type        52315 non-null  object \n",
            " 14  violation_id           39646 non-null  object \n",
            " 15  violation_description  39646 non-null  object \n",
            " 16  risk_category          39646 non-null  object \n",
            "dtypes: float64(4), int64(1), object(12)\n",
            "memory usage: 6.8+ MB\n"
          ],
          "name": "stdout"
        }
      ]
    },
    {
      "cell_type": "code",
      "metadata": {
        "colab": {
          "base_uri": "https://localhost:8080/",
          "height": 297
        },
        "id": "E9g52b-YgSc3",
        "outputId": "df34d92a-e862-4485-834d-9e9974a7f02e"
      },
      "source": [
        "df.describe()"
      ],
      "execution_count": null,
      "outputs": [
        {
          "output_type": "execute_result",
          "data": {
            "text/html": [
              "<div>\n",
              "<style scoped>\n",
              "    .dataframe tbody tr th:only-of-type {\n",
              "        vertical-align: middle;\n",
              "    }\n",
              "\n",
              "    .dataframe tbody tr th {\n",
              "        vertical-align: top;\n",
              "    }\n",
              "\n",
              "    .dataframe thead th {\n",
              "        text-align: right;\n",
              "    }\n",
              "</style>\n",
              "<table border=\"1\" class=\"dataframe\">\n",
              "  <thead>\n",
              "    <tr style=\"text-align: right;\">\n",
              "      <th></th>\n",
              "      <th>business_id</th>\n",
              "      <th>business_latitude</th>\n",
              "      <th>business_longitude</th>\n",
              "      <th>business_phone_number</th>\n",
              "      <th>inspection_score</th>\n",
              "    </tr>\n",
              "  </thead>\n",
              "  <tbody>\n",
              "    <tr>\n",
              "      <th>count</th>\n",
              "      <td>52315.000000</td>\n",
              "      <td>29530.000000</td>\n",
              "      <td>29530.000000</td>\n",
              "      <td>1.615300e+04</td>\n",
              "      <td>38590.000000</td>\n",
              "    </tr>\n",
              "    <tr>\n",
              "      <th>mean</th>\n",
              "      <td>50661.368078</td>\n",
              "      <td>37.743790</td>\n",
              "      <td>-122.336773</td>\n",
              "      <td>1.415540e+10</td>\n",
              "      <td>85.953563</td>\n",
              "    </tr>\n",
              "    <tr>\n",
              "      <th>std</th>\n",
              "      <td>35423.666201</td>\n",
              "      <td>1.030884</td>\n",
              "      <td>3.340570</td>\n",
              "      <td>1.225992e+06</td>\n",
              "      <td>8.777229</td>\n",
              "    </tr>\n",
              "    <tr>\n",
              "      <th>min</th>\n",
              "      <td>19.000000</td>\n",
              "      <td>0.000000</td>\n",
              "      <td>-122.510896</td>\n",
              "      <td>1.415020e+10</td>\n",
              "      <td>45.000000</td>\n",
              "    </tr>\n",
              "    <tr>\n",
              "      <th>25%</th>\n",
              "      <td>5855.000000</td>\n",
              "      <td>37.755282</td>\n",
              "      <td>-122.437717</td>\n",
              "      <td>1.415537e+10</td>\n",
              "      <td>81.000000</td>\n",
              "    </tr>\n",
              "    <tr>\n",
              "      <th>50%</th>\n",
              "      <td>65925.000000</td>\n",
              "      <td>37.780348</td>\n",
              "      <td>-122.419558</td>\n",
              "      <td>1.415561e+10</td>\n",
              "      <td>87.000000</td>\n",
              "    </tr>\n",
              "    <tr>\n",
              "      <th>75%</th>\n",
              "      <td>82217.000000</td>\n",
              "      <td>37.789544</td>\n",
              "      <td>-122.408345</td>\n",
              "      <td>1.415578e+10</td>\n",
              "      <td>92.000000</td>\n",
              "    </tr>\n",
              "    <tr>\n",
              "      <th>max</th>\n",
              "      <td>98377.000000</td>\n",
              "      <td>37.824494</td>\n",
              "      <td>0.000000</td>\n",
              "      <td>1.415988e+10</td>\n",
              "      <td>100.000000</td>\n",
              "    </tr>\n",
              "  </tbody>\n",
              "</table>\n",
              "</div>"
            ],
            "text/plain": [
              "        business_id  business_latitude  ...  business_phone_number  inspection_score\n",
              "count  52315.000000       29530.000000  ...           1.615300e+04      38590.000000\n",
              "mean   50661.368078          37.743790  ...           1.415540e+10         85.953563\n",
              "std    35423.666201           1.030884  ...           1.225992e+06          8.777229\n",
              "min       19.000000           0.000000  ...           1.415020e+10         45.000000\n",
              "25%     5855.000000          37.755282  ...           1.415537e+10         81.000000\n",
              "50%    65925.000000          37.780348  ...           1.415561e+10         87.000000\n",
              "75%    82217.000000          37.789544  ...           1.415578e+10         92.000000\n",
              "max    98377.000000          37.824494  ...           1.415988e+10        100.000000\n",
              "\n",
              "[8 rows x 5 columns]"
            ]
          },
          "metadata": {
            "tags": []
          },
          "execution_count": 6
        }
      ]
    },
    {
      "cell_type": "markdown",
      "metadata": {
        "id": "nahf3aXWgswO"
      },
      "source": [
        "## 2.1: Number of violations aggregated by year\n",
        "### Which restaurant(s) have the highest number of violations for 2018?\n"
      ]
    },
    {
      "cell_type": "code",
      "metadata": {
        "id": "_iGto1IngTp6"
      },
      "source": [
        " # Creating a year column\n",
        " df[\"inspection_year\"] = df.apply(lambda x: datetime.datetime.strptime(x[\"inspection_date\"], '%Y-%m-%dT%H:%M:%S').year, axis=1)"
      ],
      "execution_count": null,
      "outputs": []
    },
    {
      "cell_type": "code",
      "metadata": {
        "id": "M5Lj_MpBh5Fs"
      },
      "source": [
        "# Creating a new DF with only 2018's violations\n",
        "df2 = df.loc[(df['inspection_year'] == 2018) & (pd.isna(df['violation_id']) == False)][['inspection_year', 'business_name']].groupby(['business_name']).count()#.nlargest(2, \"inspection_year\")"
      ],
      "execution_count": null,
      "outputs": []
    },
    {
      "cell_type": "code",
      "metadata": {
        "colab": {
          "base_uri": "https://localhost:8080/",
          "height": 142
        },
        "id": "o0Lqhp8Li6DI",
        "outputId": "9b6806cb-6623-4dfe-cb00-99c82fc67f1a"
      },
      "source": [
        "df2.loc[df2['inspection_year'] == df2.max().values[0]]"
      ],
      "execution_count": null,
      "outputs": [
        {
          "output_type": "execute_result",
          "data": {
            "text/html": [
              "<div>\n",
              "<style scoped>\n",
              "    .dataframe tbody tr th:only-of-type {\n",
              "        vertical-align: middle;\n",
              "    }\n",
              "\n",
              "    .dataframe tbody tr th {\n",
              "        vertical-align: top;\n",
              "    }\n",
              "\n",
              "    .dataframe thead th {\n",
              "        text-align: right;\n",
              "    }\n",
              "</style>\n",
              "<table border=\"1\" class=\"dataframe\">\n",
              "  <thead>\n",
              "    <tr style=\"text-align: right;\">\n",
              "      <th></th>\n",
              "      <th>inspection_year</th>\n",
              "    </tr>\n",
              "    <tr>\n",
              "      <th>business_name</th>\n",
              "      <th></th>\n",
              "    </tr>\n",
              "  </thead>\n",
              "  <tbody>\n",
              "    <tr>\n",
              "      <th>McDonald's</th>\n",
              "      <td>20</td>\n",
              "    </tr>\n",
              "    <tr>\n",
              "      <th>Peet's Coffee &amp; Tea</th>\n",
              "      <td>20</td>\n",
              "    </tr>\n",
              "  </tbody>\n",
              "</table>\n",
              "</div>"
            ],
            "text/plain": [
              "                     inspection_year\n",
              "business_name                       \n",
              "McDonald's                        20\n",
              "Peet's Coffee & Tea               20"
            ]
          },
          "metadata": {
            "tags": []
          },
          "execution_count": 32
        }
      ]
    },
    {
      "cell_type": "markdown",
      "metadata": {
        "id": "_3y7dPKQoany"
      },
      "source": [
        "###Which restaurant(s) have the lowest number of violations for 2017?"
      ]
    },
    {
      "cell_type": "code",
      "metadata": {
        "id": "62HJrVXkmMZg"
      },
      "source": [
        "df2 = df.loc[(df['inspection_year'] == 2017) & (pd.isna(df['violation_id']) == False)]\\\n",
        "  [['inspection_year', 'business_name']]\\\n",
        "  .groupby(['business_name'])\\\n",
        "  .count()"
      ],
      "execution_count": null,
      "outputs": []
    },
    {
      "cell_type": "code",
      "metadata": {
        "colab": {
          "base_uri": "https://localhost:8080/",
          "height": 450
        },
        "id": "66QLzycjohde",
        "outputId": "6d6c955b-b15d-4b60-f592-e49db29ff244"
      },
      "source": [
        "# Since violations are asked it means there must be 1 minimum violation\n",
        "df2.loc[df2['inspection_year'] == 1] "
      ],
      "execution_count": null,
      "outputs": [
        {
          "output_type": "execute_result",
          "data": {
            "text/html": [
              "<div>\n",
              "<style scoped>\n",
              "    .dataframe tbody tr th:only-of-type {\n",
              "        vertical-align: middle;\n",
              "    }\n",
              "\n",
              "    .dataframe tbody tr th {\n",
              "        vertical-align: top;\n",
              "    }\n",
              "\n",
              "    .dataframe thead th {\n",
              "        text-align: right;\n",
              "    }\n",
              "</style>\n",
              "<table border=\"1\" class=\"dataframe\">\n",
              "  <thead>\n",
              "    <tr style=\"text-align: right;\">\n",
              "      <th></th>\n",
              "      <th>inspection_year</th>\n",
              "    </tr>\n",
              "    <tr>\n",
              "      <th>business_name</th>\n",
              "      <th></th>\n",
              "    </tr>\n",
              "  </thead>\n",
              "  <tbody>\n",
              "    <tr>\n",
              "      <th>17th &amp; Noe Market</th>\n",
              "      <td>1</td>\n",
              "    </tr>\n",
              "    <tr>\n",
              "      <th>20 Spot Mission, LLC</th>\n",
              "      <td>1</td>\n",
              "    </tr>\n",
              "    <tr>\n",
              "      <th>24 Hour Fitness Club, #273</th>\n",
              "      <td>1</td>\n",
              "    </tr>\n",
              "    <tr>\n",
              "      <th>24TH STREET CHEESE COMPANY</th>\n",
              "      <td>1</td>\n",
              "    </tr>\n",
              "    <tr>\n",
              "      <th>3RD BAPTIST FELLOWSHIP HALL</th>\n",
              "      <td>1</td>\n",
              "    </tr>\n",
              "    <tr>\n",
              "      <th>...</th>\n",
              "      <td>...</td>\n",
              "    </tr>\n",
              "    <tr>\n",
              "      <th>Yick Wo Elementary School</th>\n",
              "      <td>1</td>\n",
              "    </tr>\n",
              "    <tr>\n",
              "      <th>Your Market</th>\n",
              "      <td>1</td>\n",
              "    </tr>\n",
              "    <tr>\n",
              "      <th>Zaida T. Rodriguez (ZTR) Annex Child Development Center</th>\n",
              "      <td>1</td>\n",
              "    </tr>\n",
              "    <tr>\n",
              "      <th>Zaida T. Rodriguez (ZTR) Child Development Center</th>\n",
              "      <td>1</td>\n",
              "    </tr>\n",
              "    <tr>\n",
              "      <th>Zain's Liquor</th>\n",
              "      <td>1</td>\n",
              "    </tr>\n",
              "  </tbody>\n",
              "</table>\n",
              "<p>551 rows × 1 columns</p>\n",
              "</div>"
            ],
            "text/plain": [
              "                                                    inspection_year\n",
              "business_name                                                      \n",
              "17th & Noe Market                                                 1\n",
              "20 Spot Mission, LLC                                              1\n",
              "24 Hour Fitness Club, #273                                        1\n",
              "24TH STREET CHEESE COMPANY                                        1\n",
              "3RD BAPTIST FELLOWSHIP HALL                                       1\n",
              "...                                                             ...\n",
              "Yick Wo Elementary School                                         1\n",
              "Your Market                                                       1\n",
              "Zaida T. Rodriguez (ZTR) Annex Child Developmen...                1\n",
              "Zaida T. Rodriguez (ZTR) Child Development Center                 1\n",
              "Zain's Liquor                                                     1\n",
              "\n",
              "[551 rows x 1 columns]"
            ]
          },
          "metadata": {
            "tags": []
          },
          "execution_count": 34
        }
      ]
    },
    {
      "cell_type": "markdown",
      "metadata": {
        "id": "syWUmH2vrifs"
      },
      "source": [
        "##  2.2: Inspection score changes over time\n",
        "### What was the change in average inspection score by postal code between 2016 and 2017?\n"
      ]
    },
    {
      "cell_type": "code",
      "metadata": {
        "id": "9v50cew-t6G3"
      },
      "source": [
        "def cal_avg_score_by_year(df, year):\n",
        "  return df.loc[(df['inspection_year'] == year) & (pd.isna(df['inspection_score']) == False)]\\\n",
        "    [['inspection_score', 'business_postal_code']]\\\n",
        "    .groupby(['business_postal_code'])\\\n",
        "    .mean()"
      ],
      "execution_count": null,
      "outputs": []
    },
    {
      "cell_type": "code",
      "metadata": {
        "id": "PNYG9eVhrrXP"
      },
      "source": [
        "df_avg_2016 = cal_avg_score_by_year(df, 2016)"
      ],
      "execution_count": null,
      "outputs": []
    },
    {
      "cell_type": "code",
      "metadata": {
        "id": "jelLZ7LeoiHl"
      },
      "source": [
        "df_avg_2017 = cal_avg_score_by_year(df, 2017)"
      ],
      "execution_count": null,
      "outputs": []
    },
    {
      "cell_type": "code",
      "metadata": {
        "colab": {
          "base_uri": "https://localhost:8080/",
          "height": 1000
        },
        "id": "5oAP1wm_viFT",
        "outputId": "f0549f3a-43d3-4b67-89b1-c57a5889fc2e"
      },
      "source": [
        "df_avg_changes=df_avg_2017 - df_avg_2016\n",
        "df_avg_changes"
      ],
      "execution_count": null,
      "outputs": [
        {
          "output_type": "execute_result",
          "data": {
            "text/html": [
              "<div>\n",
              "<style scoped>\n",
              "    .dataframe tbody tr th:only-of-type {\n",
              "        vertical-align: middle;\n",
              "    }\n",
              "\n",
              "    .dataframe tbody tr th {\n",
              "        vertical-align: top;\n",
              "    }\n",
              "\n",
              "    .dataframe thead th {\n",
              "        text-align: right;\n",
              "    }\n",
              "</style>\n",
              "<table border=\"1\" class=\"dataframe\">\n",
              "  <thead>\n",
              "    <tr style=\"text-align: right;\">\n",
              "      <th></th>\n",
              "      <th>inspection_score</th>\n",
              "    </tr>\n",
              "    <tr>\n",
              "      <th>business_postal_code</th>\n",
              "      <th></th>\n",
              "    </tr>\n",
              "  </thead>\n",
              "  <tbody>\n",
              "    <tr>\n",
              "      <th>00000</th>\n",
              "      <td>NaN</td>\n",
              "    </tr>\n",
              "    <tr>\n",
              "      <th>92672</th>\n",
              "      <td>NaN</td>\n",
              "    </tr>\n",
              "    <tr>\n",
              "      <th>94013</th>\n",
              "      <td>NaN</td>\n",
              "    </tr>\n",
              "    <tr>\n",
              "      <th>94014</th>\n",
              "      <td>NaN</td>\n",
              "    </tr>\n",
              "    <tr>\n",
              "      <th>94080</th>\n",
              "      <td>NaN</td>\n",
              "    </tr>\n",
              "    <tr>\n",
              "      <th>94101</th>\n",
              "      <td>10.000000</td>\n",
              "    </tr>\n",
              "    <tr>\n",
              "      <th>94102</th>\n",
              "      <td>1.367008</td>\n",
              "    </tr>\n",
              "    <tr>\n",
              "      <th>94103</th>\n",
              "      <td>0.387719</td>\n",
              "    </tr>\n",
              "    <tr>\n",
              "      <th>941033148</th>\n",
              "      <td>-12.000000</td>\n",
              "    </tr>\n",
              "    <tr>\n",
              "      <th>94104</th>\n",
              "      <td>0.046150</td>\n",
              "    </tr>\n",
              "    <tr>\n",
              "      <th>94105</th>\n",
              "      <td>-2.771429</td>\n",
              "    </tr>\n",
              "    <tr>\n",
              "      <th>94107</th>\n",
              "      <td>-0.082502</td>\n",
              "    </tr>\n",
              "    <tr>\n",
              "      <th>94108</th>\n",
              "      <td>2.161553</td>\n",
              "    </tr>\n",
              "    <tr>\n",
              "      <th>94109</th>\n",
              "      <td>2.224540</td>\n",
              "    </tr>\n",
              "    <tr>\n",
              "      <th>94110</th>\n",
              "      <td>-2.323312</td>\n",
              "    </tr>\n",
              "    <tr>\n",
              "      <th>941102019</th>\n",
              "      <td>NaN</td>\n",
              "    </tr>\n",
              "    <tr>\n",
              "      <th>94111</th>\n",
              "      <td>1.902107</td>\n",
              "    </tr>\n",
              "    <tr>\n",
              "      <th>94112</th>\n",
              "      <td>0.306058</td>\n",
              "    </tr>\n",
              "    <tr>\n",
              "      <th>94114</th>\n",
              "      <td>-4.617532</td>\n",
              "    </tr>\n",
              "    <tr>\n",
              "      <th>94115</th>\n",
              "      <td>0.741551</td>\n",
              "    </tr>\n",
              "    <tr>\n",
              "      <th>94116</th>\n",
              "      <td>-2.480667</td>\n",
              "    </tr>\n",
              "    <tr>\n",
              "      <th>94117</th>\n",
              "      <td>-1.264933</td>\n",
              "    </tr>\n",
              "    <tr>\n",
              "      <th>94118</th>\n",
              "      <td>0.341049</td>\n",
              "    </tr>\n",
              "    <tr>\n",
              "      <th>94120</th>\n",
              "      <td>NaN</td>\n",
              "    </tr>\n",
              "    <tr>\n",
              "      <th>94121</th>\n",
              "      <td>1.586789</td>\n",
              "    </tr>\n",
              "    <tr>\n",
              "      <th>94122</th>\n",
              "      <td>0.189563</td>\n",
              "    </tr>\n",
              "    <tr>\n",
              "      <th>94123</th>\n",
              "      <td>1.413477</td>\n",
              "    </tr>\n",
              "    <tr>\n",
              "      <th>94124</th>\n",
              "      <td>-3.050387</td>\n",
              "    </tr>\n",
              "    <tr>\n",
              "      <th>94127</th>\n",
              "      <td>-2.597523</td>\n",
              "    </tr>\n",
              "    <tr>\n",
              "      <th>94129</th>\n",
              "      <td>NaN</td>\n",
              "    </tr>\n",
              "    <tr>\n",
              "      <th>94130</th>\n",
              "      <td>NaN</td>\n",
              "    </tr>\n",
              "    <tr>\n",
              "      <th>94131</th>\n",
              "      <td>1.684696</td>\n",
              "    </tr>\n",
              "    <tr>\n",
              "      <th>94132</th>\n",
              "      <td>2.618694</td>\n",
              "    </tr>\n",
              "    <tr>\n",
              "      <th>94133</th>\n",
              "      <td>0.832439</td>\n",
              "    </tr>\n",
              "    <tr>\n",
              "      <th>94134</th>\n",
              "      <td>0.458037</td>\n",
              "    </tr>\n",
              "    <tr>\n",
              "      <th>94143</th>\n",
              "      <td>3.750000</td>\n",
              "    </tr>\n",
              "    <tr>\n",
              "      <th>94158</th>\n",
              "      <td>-1.548913</td>\n",
              "    </tr>\n",
              "    <tr>\n",
              "      <th>95105</th>\n",
              "      <td>NaN</td>\n",
              "    </tr>\n",
              "    <tr>\n",
              "      <th>Ca</th>\n",
              "      <td>NaN</td>\n",
              "    </tr>\n",
              "  </tbody>\n",
              "</table>\n",
              "</div>"
            ],
            "text/plain": [
              "                      inspection_score\n",
              "business_postal_code                  \n",
              "00000                              NaN\n",
              "92672                              NaN\n",
              "94013                              NaN\n",
              "94014                              NaN\n",
              "94080                              NaN\n",
              "94101                        10.000000\n",
              "94102                         1.367008\n",
              "94103                         0.387719\n",
              "941033148                   -12.000000\n",
              "94104                         0.046150\n",
              "94105                        -2.771429\n",
              "94107                        -0.082502\n",
              "94108                         2.161553\n",
              "94109                         2.224540\n",
              "94110                        -2.323312\n",
              "941102019                          NaN\n",
              "94111                         1.902107\n",
              "94112                         0.306058\n",
              "94114                        -4.617532\n",
              "94115                         0.741551\n",
              "94116                        -2.480667\n",
              "94117                        -1.264933\n",
              "94118                         0.341049\n",
              "94120                              NaN\n",
              "94121                         1.586789\n",
              "94122                         0.189563\n",
              "94123                         1.413477\n",
              "94124                        -3.050387\n",
              "94127                        -2.597523\n",
              "94129                              NaN\n",
              "94130                              NaN\n",
              "94131                         1.684696\n",
              "94132                         2.618694\n",
              "94133                         0.832439\n",
              "94134                         0.458037\n",
              "94143                         3.750000\n",
              "94158                        -1.548913\n",
              "95105                              NaN\n",
              "Ca                                 NaN"
            ]
          },
          "metadata": {
            "tags": []
          },
          "execution_count": 15
        }
      ]
    },
    {
      "cell_type": "markdown",
      "metadata": {
        "id": "F49edDu9y-jZ"
      },
      "source": [
        "### Which postal code(s) had the greatest positive change?"
      ]
    },
    {
      "cell_type": "code",
      "metadata": {
        "colab": {
          "base_uri": "https://localhost:8080/"
        },
        "id": "wccSnKsdwtMf",
        "outputId": "a6b35e20-2774-43e0-eec8-9a5b8ba51d0c"
      },
      "source": [
        "df_avg_changes.sort_values('inspection_score', ascending=False).iloc[0]"
      ],
      "execution_count": null,
      "outputs": [
        {
          "output_type": "execute_result",
          "data": {
            "text/plain": [
              "inspection_score    10.0\n",
              "Name: 94101, dtype: float64"
            ]
          },
          "metadata": {
            "tags": []
          },
          "execution_count": 16
        }
      ]
    },
    {
      "cell_type": "markdown",
      "metadata": {
        "id": "B2MdrZu6y1z-"
      },
      "source": [
        "change is positive: 10\n",
        "postal code is: 94101"
      ]
    },
    {
      "cell_type": "markdown",
      "metadata": {
        "id": "F5o2AqByzB1q"
      },
      "source": [
        "### Which postal code(s) had the greatest negative change?"
      ]
    },
    {
      "cell_type": "code",
      "metadata": {
        "colab": {
          "base_uri": "https://localhost:8080/"
        },
        "id": "Q4C6y_uSyi8p",
        "outputId": "02d0331c-bfea-40ae-f284-9faaaba13556"
      },
      "source": [
        "df_avg_changes.sort_values('inspection_score', ascending=True).iloc[0]"
      ],
      "execution_count": null,
      "outputs": [
        {
          "output_type": "execute_result",
          "data": {
            "text/plain": [
              "inspection_score   -12.0\n",
              "Name: 941033148, dtype: float64"
            ]
          },
          "metadata": {
            "tags": []
          },
          "execution_count": 17
        }
      ]
    },
    {
      "cell_type": "markdown",
      "metadata": {
        "id": "DQj3MqdSzPI5"
      },
      "source": [
        "change is negative: -12 postal code is: 941033148"
      ]
    },
    {
      "cell_type": "code",
      "metadata": {
        "id": "8habORS2zEdt"
      },
      "source": [
        ""
      ],
      "execution_count": null,
      "outputs": []
    }
  ]
}